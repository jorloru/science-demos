{
 "cells": [
  {
   "cell_type": "code",
   "execution_count": 9,
   "id": "4e0de263",
   "metadata": {},
   "outputs": [],
   "source": [
    "import math\n",
    "import numpy as np\n",
    "import matplotlib.pyplot as plt\n",
    "\n",
    "from ipywidgets import interact, fixed, IntSlider"
   ]
  },
  {
   "cell_type": "code",
   "execution_count": 10,
   "id": "4d891e7c",
   "metadata": {},
   "outputs": [],
   "source": [
    "# Parametrization of the problem\n",
    "\n",
    "def f(x):\n",
    "    return np.sqrt(1-x**2)\n",
    "\n",
    "xlims = (0.0,1.0)\n",
    "ylims = (0.0,1.0)\n",
    "\n",
    "I_real = math.pi/4"
   ]
  },
  {
   "cell_type": "code",
   "execution_count": 11,
   "id": "2c435b11",
   "metadata": {},
   "outputs": [
    {
     "data": {
      "image/png": "[encoded data removed]",
      "text/plain": [
       "<Figure size 640x480 with 1 Axes>"
      ]
     },
     "metadata": {},
     "output_type": "display_data"
    }
   ],
   "source": [
    "x = np.linspace(0, 1, 100)\n",
    "\n",
    "fig, ax = plt.subplots(1, 1)\n",
    "ax.plot(x, f(x))\n",
    "\n",
    "ax.set_xlim(xlims)\n",
    "ax.set_ylim(ylims)\n",
    "\n",
    "plt.show()"
   ]
  },
  {
   "cell_type": "code",
   "execution_count": 12,
   "id": "b099cf85",
   "metadata": {},
   "outputs": [
    {
     "data": {
      "application/vnd.jupyter.widget-view+json": {
       "model_id": "d6dee268a6a44298b87258b65e2c76ea",
       "version_major": 2,
       "version_minor": 0
      },
      "text/plain": [
       "interactive(children=(IntSlider(value=100, description='n', max=10000, min=100), Output()), _dom_classes=('wid…"
      ]
     },
     "metadata": {},
     "output_type": "display_data"
    }
   ],
   "source": [
    "def draw(n):\n",
    "    \n",
    "    np.random.seed(0) # For reproducibility\n",
    "    \n",
    "    x = xlims[0] + (xlims[1] - xlims[0])*np.random.random(n)\n",
    "    y = ylims[0] + (ylims[1] - ylims[0])*np.random.random(n)\n",
    "    \n",
    "    fig, ax = plt.subplots(1, 1)\n",
    "    \n",
    "    ax.scatter(x, y, s=1, c='r')\n",
    "    ax.plot(np.linspace(0, 1, 100), f(np.linspace(0, 1, 100)), c='b')\n",
    "\n",
    "    ax.set_xlim(0.0,1.0)\n",
    "    ax.set_ylim(0.0,1.0)\n",
    "\n",
    "    plt.show()\n",
    "    \n",
    "interact(draw,n=IntSlider(value=100, min=100, max=10000));"
   ]
  },
  {
   "cell_type": "code",
   "execution_count": 13,
   "id": "5153fe99",
   "metadata": {},
   "outputs": [
    {
     "data": {
      "application/vnd.jupyter.widget-view+json": {
       "model_id": "ae7dbaf71bac4b989511de797f1303b6",
       "version_major": 2,
       "version_minor": 0
      },
      "text/plain": [
       "interactive(children=(IntSlider(value=100, description='n', max=10000, min=100), Output()), _dom_classes=('wid…"
      ]
     },
     "metadata": {},
     "output_type": "display_data"
    }
   ],
   "source": [
    "def acc_rej(n):\n",
    "    \n",
    "    np.random.seed(0) # For reproducibility\n",
    "    \n",
    "    x = xlims[0] + (xlims[1] - xlims[0])*np.random.random(n)\n",
    "    y = ylims[0] + (ylims[1] - ylims[0])*np.random.random(n)\n",
    "    \n",
    "    total = np.sum(y <= f(x))\n",
    "    I = total*((xlims[1] - xlims[0])*(ylims[1] - ylims[0]))/n\n",
    "    \n",
    "    fig, ax = plt.subplots(1, 1)\n",
    "    \n",
    "    ax.scatter(x, y, s=1, c='r')\n",
    "    ax.plot(np.linspace(0, 1, 100), f(np.linspace(0, 1, 100)), c='b')\n",
    "    ax.fill_between(np.linspace(0, 1, 100), f(np.linspace(0, 1, 100)), color='b', alpha=0.2)\n",
    "\n",
    "    ax.set_xlim(0.0,1.0)\n",
    "    ax.set_ylim(0.0,1.0)\n",
    "\n",
    "    plt.show()\n",
    "    \n",
    "    print(f\"Results for {n} points:\")\n",
    "    print()\n",
    "    print(f\"\\tI = {I}\")\n",
    "    print(f\"\\tAccuracy of {round((1 - abs(I-I_real)/I_real)*100,2)}%\")\n",
    "    \n",
    "interact(acc_rej, n=IntSlider(value=100, min=100, max=10000));"
   ]
  },
  {
   "cell_type": "code",
   "execution_count": null,
   "id": "abed9c17",
   "metadata": {},
   "outputs": [],
   "source": []
  }
 ],
 "metadata": {
  "kernelspec": {
   "display_name": "Python 3 (ipykernel)",
   "language": "python",
   "name": "python3"
  },
  "language_info": {
   "codemirror_mode": {
    "name": "ipython",
    "version": 3
   },
   "file_extension": ".py",
   "mimetype": "text/x-python",
   "name": "python",
   "nbconvert_exporter": "python",
   "pygments_lexer": "ipython3",
   "version": "3.11.1"
  }
 },
 "nbformat": 4,
 "nbformat_minor": 5
}
